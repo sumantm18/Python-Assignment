{
 "cells": [
  {
   "cell_type": "markdown",
   "id": "76be3bc0",
   "metadata": {},
   "source": [
    "<h2> Question 1 </h2>"
   ]
  },
  {
   "cell_type": "code",
   "execution_count": 45,
   "id": "4ab75268",
   "metadata": {},
   "outputs": [
    {
     "name": "stdout",
     "output_type": "stream",
     "text": [
      "Enter the number of rows:3\n",
      "Enter the number of columns:3\n",
      "Enter the entries rowwise:\n",
      "1\n",
      "2\n",
      "0\n",
      "0\n",
      "1\n",
      "1\n",
      "5\n",
      "6\n",
      "5\n",
      "1.0 2.0 0.0 \n",
      "0.0 1.0 1.0 \n",
      "5.0 6.0 5.0 \n"
     ]
    }
   ],
   "source": [
    "#Taking inputs\n",
    "\n",
    "R = int(input(\"Enter the number of rows:\"))\n",
    "C = int(input(\"Enter the number of columns:\"))\n",
    "  \n",
    "# Initialize matrix\n",
    "matrix = []\n",
    "print(\"Enter the entries rowwise:\")\n",
    "  \n",
    "# For user input\n",
    "for i in range(R):          # A for loop for row entries\n",
    "    a =[]\n",
    "    for j in range(C):      # A for loop for column entries\n",
    "         a.append(float(input()))\n",
    "    matrix.append(a)\n",
    "  \n",
    "# For printing the matrix\n",
    "for i in range(R):\n",
    "    for j in range(C):\n",
    "        print(matrix[i][j], end = \" \")\n",
    "    print()"
   ]
  },
  {
   "cell_type": "code",
   "execution_count": 84,
   "id": "058c1be8",
   "metadata": {},
   "outputs": [
    {
     "name": "stdout",
     "output_type": "stream",
     "text": [
      "-1.2247448713915892 , -0.4629100498862757 , 3.7007434154171876e-17 , \n",
      "1.4802973661668753e-16 , -0.9258200997725514 , -1.2247448713915892 , \n",
      "1.224744871391589 , 1.3887301496588271 , 1.224744871391589 , \n"
     ]
    }
   ],
   "source": [
    "#Creating the intermittent matrix by replacing zeros with average of the column\n",
    "\n",
    "import numpy as np\n",
    "matrix2 = matrix\n",
    "\n",
    "for i in range(R):\n",
    "    for j in range(C):\n",
    "        if matrix[i][j] == 0.0:\n",
    "            #print(matrix[i][j])\n",
    "            matrix2[i][j] = np.nan\n",
    "            data = column(matrix2,j)\n",
    "            #print(data)\n",
    "            matrix2[i][j] = np.nanmean(data[:])\n",
    "\n",
    "#Creating final output by using mean and standard deviation\n",
    "\n",
    "matrix3 = matrix2\n",
    "for i in range(R):\n",
    "    for j in range(C):\n",
    "        matrix3[i][j] = (matrix2[i][j] - np.nanmean(column(matrix2,j)[:]))/np.std(column(matrix2,j)[:])\n",
    "\n",
    "# For printing the matrix\n",
    "for i in range(R):\n",
    "    for j in range(C):\n",
    "        print(matrix3[i][j], end = \" , \")\n",
    "    print()"
   ]
  },
  {
   "cell_type": "markdown",
   "id": "e19893ff",
   "metadata": {},
   "source": [
    "<h3 style = \"color: Blue\"> The code can be tested by inserting values and checking the result </h3>"
   ]
  },
  {
   "cell_type": "markdown",
   "id": "030651fc",
   "metadata": {},
   "source": [
    "<h2> Question 2 </h2>"
   ]
  },
  {
   "cell_type": "code",
   "execution_count": 124,
   "id": "fce0452e",
   "metadata": {},
   "outputs": [],
   "source": [
    "import json\n",
    "  \n",
    "# inititialising json object\n",
    "jsondata = [\n",
    "    {\n",
    "        \"id\": \"1\",\n",
    "        \"agent\": \"Radulf Katlego\",\n",
    "        \"unit\": \"#3\",\n",
    "        \"description\": \"This luxurious studio apartment is in the heart of downtown.\",\n",
    "        \"num_bedrooms\": 1\n",
    "    },\n",
    "    {\n",
    "        \"id\": \"2\",\n",
    "        \"agent\": \"Kelemen Konrad\",\n",
    "        \"unit\": \"#36\",\n",
    "        \"description\": \"We have a 1-bedroom available on the third floor.\",\n",
    "        \"num_bedrooms\": 1\n",
    "    },\n",
    "    {\n",
    "        \"id\": \"3\",\n",
    "        \"agent\": \"Ton Jett\",\n",
    "        \"unit\": \"#12\",\n",
    "        \"description\": \"Beautiful 1-bedroom apartment with nearby yoga studio.\",\n",
    "        \"num_bedrooms\": 1\n",
    "    },\n",
    "    {\n",
    "        \"id\": \"4\",\n",
    "        \"agent\": \"Fishel Salman\",\n",
    "        \"unit\": \"#13\",\n",
    "        \"description\": \"Beautiful studio with a nearby art studio.\",\n",
    "        \"num_bedrooms\": 1\n",
    "    }\n",
    "]"
   ]
  },
  {
   "cell_type": "code",
   "execution_count": 125,
   "id": "09319331",
   "metadata": {},
   "outputs": [],
   "source": [
    "#creating the function to print output\n",
    "def solution(jsondata):\n",
    "    import json\n",
    "    ini_string = json.dumps(jsondata)\n",
    "\n",
    "    # converting string to json\n",
    "    final_dictionary = json.loads(ini_string)\n",
    "\n",
    "    output = [None] * len(final_dictionary)\n",
    "\n",
    "    for i in range(len(final_dictionary)):\n",
    "        if ('studio' in final_dictionary[i]['description'].lower() and \n",
    "        ('yoga 1-bedroom' in final_dictionary[i]['description'].lower() or 'dance 1-bedroom' in final_dictionary[i]['description'].lower() or 'art 1-bedroom' in final_dictionary[i]['description'].lower())) or ('studio' in final_dictionary[i]['description'].lower() or \n",
    "        ('yoga studio' in final_dictionary[i]['description'].lower() or 'dance studio' in final_dictionary[i]['description'].lower() or 'art studio' in final_dictionary[i]['description'].lower())):\n",
    "            final_dictionary[i]['num_bedrooms'] = 0\n",
    "            output[i] = 0\n",
    "        if ('1-bedroom' in final_dictionary[i]['description'].lower() and \n",
    "        ('yoga studio' in final_dictionary[i]['description'].lower() or 'dance studio' in final_dictionary[i]['description'].lower() or 'art studio' in final_dictionary[i]['description'].lower())) or ('1-bedroom' in final_dictionary[i]['description'].lower() or \n",
    "        ('yoga 1-bedroom' in final_dictionary[i]['description'].lower() or 'dance 1-bedroom' in final_dictionary[i]['description'].lower() or 'art 1-bedroom' in final_dictionary[i]['description'].lower())):\n",
    "            final_dictionary[i]['num_bedrooms'] = 1\n",
    "            output[i] = 1\n",
    "        else:\n",
    "            final_dictionary[i]['num_bedrooms'] = final_dictionary[i]['num_bedrooms']\n",
    "            output[i] = final_dictionary[i]['num_bedrooms']\n",
    "    print(output)"
   ]
  },
  {
   "cell_type": "code",
   "execution_count": 126,
   "id": "4d90342c",
   "metadata": {},
   "outputs": [
    {
     "name": "stdout",
     "output_type": "stream",
     "text": [
      "[0, 1, 1, 0]\n"
     ]
    }
   ],
   "source": [
    "#Running the function\n",
    "solution(jsondata)"
   ]
  },
  {
   "cell_type": "markdown",
   "id": "ec883fd4",
   "metadata": {},
   "source": [
    "<h3 style = \"color: Blue\"> The code can be tested by updating the json data </h3>"
   ]
  }
 ],
 "metadata": {
  "kernelspec": {
   "display_name": "Python 3 (ipykernel)",
   "language": "python",
   "name": "python3"
  },
  "language_info": {
   "codemirror_mode": {
    "name": "ipython",
    "version": 3
   },
   "file_extension": ".py",
   "mimetype": "text/x-python",
   "name": "python",
   "nbconvert_exporter": "python",
   "pygments_lexer": "ipython3",
   "version": "3.9.12"
  }
 },
 "nbformat": 4,
 "nbformat_minor": 5
}
